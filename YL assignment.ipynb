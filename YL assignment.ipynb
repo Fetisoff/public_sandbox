{
 "cells": [
  {
   "cell_type": "code",
   "metadata": {
    "collapsed": true,
    "pycharm": {
     "name": "#%%\n"
    }
   },
   "source": [
    "import pandas as pd"
   ],
   "execution_count": 113,
   "outputs": []
  },
  {
   "cell_type": "code",
   "execution_count": 215,
   "outputs": [],
   "source": [
    "a_group = ['a', 29951, 51, 31, 363, 254, 225, 191]\n",
    "b_group = ['b', 30089, 58, 35, 413, 279, 230, 171]\n",
    "c_group = ['c', 30116, 50, 24, 468, 301, 178, 138]\n",
    "\n",
    "plans = {'Gold': 15.95, 'Silver': 9.95, 'Bronze': 4.95}"
   ],
   "metadata": {
    "collapsed": false,
    "pycharm": {
     "name": "#%%\n"
    }
   }
  },
  {
   "cell_type": "code",
   "execution_count": 12,
   "outputs": [],
   "source": [
    "ab_test_results = pd.DataFrame([a_group, b_group, c_group], columns=['Version', 'Visitors', 'Gold purchases', 'Gold renewals', 'Silver purchases', 'Silver renewals', 'Bronze purchases', 'Bronze renewals'])"
   ],
   "metadata": {
    "collapsed": false,
    "pycharm": {
     "name": "#%%\n"
    }
   }
  },
  {
   "cell_type": "markdown",
   "source": [
    "## Data Exploration"
   ],
   "metadata": {
    "collapsed": false,
    "pycharm": {
     "name": "#%% md\n"
    }
   }
  },
  {
   "cell_type": "code",
   "source": [
    "ab_test_results"
   ],
   "metadata": {
    "collapsed": false,
    "pycharm": {
     "name": "#%%\n"
    }
   },
   "execution_count": 56,
   "outputs": [
    {
     "data": {
      "text/plain": "  Version  Visitors  Gold purchases  Gold renewals  Silver purchases  \\\n0       a     29951              51             31               363   \n1       b     30089              58             35               413   \n2       c     30116              50             24               468   \n\n   Silver renewals  Bronze purchases  Bronze renewals  \n0              254               225              191  \n1              279               230              171  \n2              301               178              138  ",
      "text/html": "<div>\n<style scoped>\n    .dataframe tbody tr th:only-of-type {\n        vertical-align: middle;\n    }\n\n    .dataframe tbody tr th {\n        vertical-align: top;\n    }\n\n    .dataframe thead th {\n        text-align: right;\n    }\n</style>\n<table border=\"1\" class=\"dataframe\">\n  <thead>\n    <tr style=\"text-align: right;\">\n      <th></th>\n      <th>Version</th>\n      <th>Visitors</th>\n      <th>Gold purchases</th>\n      <th>Gold renewals</th>\n      <th>Silver purchases</th>\n      <th>Silver renewals</th>\n      <th>Bronze purchases</th>\n      <th>Bronze renewals</th>\n    </tr>\n  </thead>\n  <tbody>\n    <tr>\n      <th>0</th>\n      <td>a</td>\n      <td>29951</td>\n      <td>51</td>\n      <td>31</td>\n      <td>363</td>\n      <td>254</td>\n      <td>225</td>\n      <td>191</td>\n    </tr>\n    <tr>\n      <th>1</th>\n      <td>b</td>\n      <td>30089</td>\n      <td>58</td>\n      <td>35</td>\n      <td>413</td>\n      <td>279</td>\n      <td>230</td>\n      <td>171</td>\n    </tr>\n    <tr>\n      <th>2</th>\n      <td>c</td>\n      <td>30116</td>\n      <td>50</td>\n      <td>24</td>\n      <td>468</td>\n      <td>301</td>\n      <td>178</td>\n      <td>138</td>\n    </tr>\n  </tbody>\n</table>\n</div>"
     },
     "execution_count": 56,
     "metadata": {},
     "output_type": "execute_result"
    }
   ]
  },
  {
   "cell_type": "code",
   "execution_count": 245,
   "outputs": [],
   "source": [
    "def get_conversion_rate_new(version, plan):\n",
    "    total_purchases = ab_test_results[plan+' purchases'].loc[ab_test_results['Version'] == version].values[0]\n",
    "    visitors = ab_test_results['Visitors'].loc[ab_test_results['Version'] == version].values[0]\n",
    "    return round(total_purchases/visitors * 100,2)\n",
    "\n",
    "def get_conversion_rate_new_total_group(version):\n",
    "    total_purchases = ab_test_results['Gold purchases'].loc[ab_test_results['Version'] == version].values[0] + ab_test_results['Silver purchases'].loc[ab_test_results['Version'] == version].values[0] + ab_test_results['Bronze purchases'].loc[ab_test_results['Version'] == version].values[0]\n",
    "    visitors = ab_test_results['Visitors'].loc[ab_test_results['Version'] == version].values[0]\n",
    "    return round(total_purchases/visitors * 100,2)\n",
    "\n",
    "def get_conversion_rate_renew(version, plan):\n",
    "    total_renews = ab_test_results[plan+' renewals'].loc[ab_test_results['Version'] == version].values[0]\n",
    "    previous_amount = ab_test_results[plan+' purchases'].loc[ab_test_results['Version'] == version].values[0]\n",
    "    return round(total_renews/previous_amount * 100,2)\n",
    "\n",
    "\n",
    "def get_conversion_rate_renew_total_group(version):\n",
    "    renewals = ab_test_results['Gold renewals'].loc[ab_test_results['Version'] == version].values[0] + ab_test_results['Silver renewals'].loc[ab_test_results['Version'] == version].values[0] + ab_test_results['Bronze renewals'].loc[ab_test_results['Version'] == version].values[0]\n",
    "    previous_amount = ab_test_results['Gold purchases'].loc[ab_test_results['Version'] == version].values[0] + ab_test_results['Silver purchases'].loc[ab_test_results['Version'] == version].values[0] + ab_test_results['Bronze purchases'].loc[ab_test_results['Version'] == version].values[0]\n",
    "    visitors = ab_test_results['Visitors'].loc[ab_test_results['Version'] == version].values[0]\n",
    "    return round(renewals/previous_amount * 100,2)"
   ],
   "metadata": {
    "collapsed": false,
    "pycharm": {
     "name": "#%%\n"
    }
   }
  },
  {
   "cell_type": "code",
   "execution_count": 246,
   "outputs": [
    {
     "data": {
      "text/plain": "74.49"
     },
     "execution_count": 246,
     "metadata": {},
     "output_type": "execute_result"
    }
   ],
   "source": [
    "get_conversion_rate_renew_total_group('a')"
   ],
   "metadata": {
    "collapsed": false,
    "pycharm": {
     "name": "#%%\n"
    }
   }
  },
  {
   "cell_type": "code",
   "execution_count": 244,
   "outputs": [
    {
     "data": {
      "text/plain": "                              a      b      c\nGold new                   0.17   0.19   0.17\nGold renew                60.78  60.34  48.00\nSilver new                 1.21   1.37   1.55\nSilver renew              69.97  67.55  64.32\nBronze new                 0.75   0.76   0.59\nBronze renew              84.89  74.35  77.53\nTotal new conversion       2.13   2.33   2.31\nTotal renewal conversion  74.49  69.19  66.52",
      "text/html": "<div>\n<style scoped>\n    .dataframe tbody tr th:only-of-type {\n        vertical-align: middle;\n    }\n\n    .dataframe tbody tr th {\n        vertical-align: top;\n    }\n\n    .dataframe thead th {\n        text-align: right;\n    }\n</style>\n<table border=\"1\" class=\"dataframe\">\n  <thead>\n    <tr style=\"text-align: right;\">\n      <th></th>\n      <th>a</th>\n      <th>b</th>\n      <th>c</th>\n    </tr>\n  </thead>\n  <tbody>\n    <tr>\n      <th>Gold new</th>\n      <td>0.17</td>\n      <td>0.19</td>\n      <td>0.17</td>\n    </tr>\n    <tr>\n      <th>Gold renew</th>\n      <td>60.78</td>\n      <td>60.34</td>\n      <td>48.00</td>\n    </tr>\n    <tr>\n      <th>Silver new</th>\n      <td>1.21</td>\n      <td>1.37</td>\n      <td>1.55</td>\n    </tr>\n    <tr>\n      <th>Silver renew</th>\n      <td>69.97</td>\n      <td>67.55</td>\n      <td>64.32</td>\n    </tr>\n    <tr>\n      <th>Bronze new</th>\n      <td>0.75</td>\n      <td>0.76</td>\n      <td>0.59</td>\n    </tr>\n    <tr>\n      <th>Bronze renew</th>\n      <td>84.89</td>\n      <td>74.35</td>\n      <td>77.53</td>\n    </tr>\n    <tr>\n      <th>Total new conversion</th>\n      <td>2.13</td>\n      <td>2.33</td>\n      <td>2.31</td>\n    </tr>\n    <tr>\n      <th>Total renewal conversion</th>\n      <td>74.49</td>\n      <td>69.19</td>\n      <td>66.52</td>\n    </tr>\n  </tbody>\n</table>\n</div>"
     },
     "execution_count": 244,
     "metadata": {},
     "output_type": "execute_result"
    }
   ],
   "source": [
    "conversion_rates = pd.DataFrame(data=[\n",
    "    [get_conversion_rate_new('a', 'Gold'),get_conversion_rate_new('b', 'Gold'), get_conversion_rate_new('c', 'Gold')], [get_conversion_rate_renew('a', 'Gold'),get_conversion_rate_renew('b', 'Gold'), get_conversion_rate_renew('c', 'Gold')], [get_conversion_rate_new('a', 'Silver'),get_conversion_rate_new('b', 'Silver'), get_conversion_rate_new('c', 'Silver')], [get_conversion_rate_renew('a', 'Silver'),get_conversion_rate_renew('b', 'Silver'), get_conversion_rate_renew('c', 'Silver')],[get_conversion_rate_new('a', 'Bronze'),get_conversion_rate_new('b', 'Bronze'), get_conversion_rate_new('c', 'Bronze')], [get_conversion_rate_renew('a', 'Bronze'),get_conversion_rate_renew('b', 'Bronze'), get_conversion_rate_renew('c', 'Bronze')], [get_conversion_rate_new_total_group('a'), get_conversion_rate_new_total_group('b'), get_conversion_rate_new_total_group('c')], [get_conversion_rate_renew_total_group('a'), get_conversion_rate_renew_total_group('b'), get_conversion_rate_renew_total_group('c')]\n",
    "], columns=['a', 'b', 'c'], index=['Gold new', 'Gold renew', 'Silver new', 'Silver renew', 'Bronze new', 'Bronze renew', 'Total new conversion', 'Total renewal conversion'])\n",
    "conversion_rates"
   ],
   "metadata": {
    "collapsed": false,
    "pycharm": {
     "name": "#%%\n"
    }
   }
  },
  {
   "cell_type": "code",
   "execution_count": 233,
   "outputs": [
    {
     "data": {
      "text/plain": "48.0"
     },
     "execution_count": 233,
     "metadata": {},
     "output_type": "execute_result"
    }
   ],
   "source": [
    "get_conversion_rate_renew('c', 'Gold')"
   ],
   "metadata": {
    "collapsed": false,
    "pycharm": {
     "name": "#%%\n"
    }
   }
  },
  {
   "cell_type": "code",
   "execution_count": 36,
   "outputs": [],
   "source": [
    "a_conversion_rate_new = get_conversion_rate(ab_test_results, 'a')\n",
    "b_conversion_rate_new = get_conversion_rate(ab_test_results, 'b')\n",
    "c_conversion_rate_new = get_conversion_rate(ab_test_results, 'c')"
   ],
   "metadata": {
    "collapsed": false,
    "pycharm": {
     "name": "#%%\n"
    }
   }
  },
  {
   "cell_type": "code",
   "execution_count": 53,
   "outputs": [
    {
     "name": "stdout",
     "output_type": "stream",
     "text": [
      "conversion rate purchases for A group: 2.13 %\n",
      "conversion rate purchases for B group: 2.33 %\n",
      "conversion rate purchases for C group: 2.31 %\n"
     ]
    }
   ],
   "source": [
    "print('conversion rate purchases for A group: '+str(a_conversion_rate_new)+' %')\n",
    "print('conversion rate purchases for B group: '+str(b_conversion_rate_new)+' %')\n",
    "print('conversion rate purchases for C group: '+str(c_conversion_rate_new)+' %')"
   ],
   "metadata": {
    "collapsed": false,
    "pycharm": {
     "name": "#%%\n"
    }
   }
  },
  {
   "cell_type": "code",
   "execution_count": 213,
   "outputs": [
    {
     "name": "stdout",
     "output_type": "stream",
     "text": [
      "total change in conversion of B group: 9.39 %\n",
      "total change in conversion of C group: 8.45 %\n"
     ]
    }
   ],
   "source": [
    "print('total change in conversion of B group: '+str(round(b_conversion_rate_new/a_conversion_rate_new*100-100, 2)) + \" %\")\n",
    "print('total change in conversion of C group: '+str(round(c_conversion_rate_new/a_conversion_rate_new*100-100, 2)) + \" %\")"
   ],
   "metadata": {
    "collapsed": false,
    "pycharm": {
     "name": "#%%\n"
    }
   }
  },
  {
   "cell_type": "markdown",
   "source": [
    "## _______\n",
    "## Analysing the A/B test results"
   ],
   "metadata": {
    "collapsed": false,
    "pycharm": {
     "name": "#%% md\n"
    }
   }
  },
  {
   "cell_type": "code",
   "execution_count": 130,
   "outputs": [
    {
     "data": {
      "text/plain": "  Version  Visitors  Gold purchases  Gold renewals  Silver purchases  \\\n0       a     29951              51             31               363   \n1       b     30089              58             35               413   \n2       c     30116              50             24               468   \n\n   Silver renewals  Bronze purchases  Bronze renewals  \n0              254               225              191  \n1              279               230              171  \n2              301               178              138  ",
      "text/html": "<div>\n<style scoped>\n    .dataframe tbody tr th:only-of-type {\n        vertical-align: middle;\n    }\n\n    .dataframe tbody tr th {\n        vertical-align: top;\n    }\n\n    .dataframe thead th {\n        text-align: right;\n    }\n</style>\n<table border=\"1\" class=\"dataframe\">\n  <thead>\n    <tr style=\"text-align: right;\">\n      <th></th>\n      <th>Version</th>\n      <th>Visitors</th>\n      <th>Gold purchases</th>\n      <th>Gold renewals</th>\n      <th>Silver purchases</th>\n      <th>Silver renewals</th>\n      <th>Bronze purchases</th>\n      <th>Bronze renewals</th>\n    </tr>\n  </thead>\n  <tbody>\n    <tr>\n      <th>0</th>\n      <td>a</td>\n      <td>29951</td>\n      <td>51</td>\n      <td>31</td>\n      <td>363</td>\n      <td>254</td>\n      <td>225</td>\n      <td>191</td>\n    </tr>\n    <tr>\n      <th>1</th>\n      <td>b</td>\n      <td>30089</td>\n      <td>58</td>\n      <td>35</td>\n      <td>413</td>\n      <td>279</td>\n      <td>230</td>\n      <td>171</td>\n    </tr>\n    <tr>\n      <th>2</th>\n      <td>c</td>\n      <td>30116</td>\n      <td>50</td>\n      <td>24</td>\n      <td>468</td>\n      <td>301</td>\n      <td>178</td>\n      <td>138</td>\n    </tr>\n  </tbody>\n</table>\n</div>"
     },
     "execution_count": 130,
     "metadata": {},
     "output_type": "execute_result"
    }
   ],
   "source": [
    "ab_test_results"
   ],
   "metadata": {
    "collapsed": false,
    "pycharm": {
     "name": "#%%\n"
    }
   }
  },
  {
   "cell_type": "markdown",
   "source": [
    "##### If test groups have equal number of visitors?"
   ],
   "metadata": {
    "collapsed": false,
    "pycharm": {
     "name": "#%% md\n"
    }
   }
  },
  {
   "cell_type": "code",
   "source": [
    "total_users = ab_test_results['Visitors'].sum()\n",
    "proportion = pd.DataFrame([round(ab_test_results['Visitors'].loc[ab_test_results['Version'] == 'a'].values[0]/total_users*100, 2), round(ab_test_results['Visitors'].loc[ab_test_results['Version'] == 'b'].values[0]/total_users*100, 2), round(ab_test_results['Visitors'].loc[ab_test_results['Version'] == 'c'].values[0]/total_users*100, 2)], columns=['Percentage of users in each group'], index=['a', 'b', 'c'])\n",
    "proportion"
   ],
   "metadata": {
    "collapsed": false,
    "pycharm": {
     "name": "#%%\n"
    }
   },
   "execution_count": 149,
   "outputs": [
    {
     "data": {
      "text/plain": "   Percentage of users in each group\na                              33.22\nb                              33.37\nc                              33.40",
      "text/html": "<div>\n<style scoped>\n    .dataframe tbody tr th:only-of-type {\n        vertical-align: middle;\n    }\n\n    .dataframe tbody tr th {\n        vertical-align: top;\n    }\n\n    .dataframe thead th {\n        text-align: right;\n    }\n</style>\n<table border=\"1\" class=\"dataframe\">\n  <thead>\n    <tr style=\"text-align: right;\">\n      <th></th>\n      <th>Percentage of users in each group</th>\n    </tr>\n  </thead>\n  <tbody>\n    <tr>\n      <th>a</th>\n      <td>33.22</td>\n    </tr>\n    <tr>\n      <th>b</th>\n      <td>33.37</td>\n    </tr>\n    <tr>\n      <th>c</th>\n      <td>33.40</td>\n    </tr>\n  </tbody>\n</table>\n</div>"
     },
     "execution_count": 149,
     "metadata": {},
     "output_type": "execute_result"
    }
   ]
  },
  {
   "cell_type": "code",
   "execution_count": 151,
   "outputs": [],
   "source": [
    "# According to the table, the groups are equally populated."
   ],
   "metadata": {
    "collapsed": false,
    "pycharm": {
     "name": "#%%\n"
    }
   }
  },
  {
   "cell_type": "markdown",
   "source": [
    "## Is the result statistically significant?"
   ],
   "metadata": {
    "collapsed": false,
    "pycharm": {
     "name": "#%% md\n"
    }
   }
  },
  {
   "cell_type": "code",
   "execution_count": 214,
   "outputs": [],
   "source": [
    "# We use the assumption we made at the  beginning of the analysis, that results were checked for statistical significance (p-value, standard deriviation, student's t-test)"
   ],
   "metadata": {
    "collapsed": false,
    "pycharm": {
     "name": "#%%\n"
    }
   }
  },
  {
   "cell_type": "code",
   "execution_count": null,
   "outputs": [],
   "source": [],
   "metadata": {
    "collapsed": false,
    "pycharm": {
     "name": "#%%\n"
    }
   }
  },
  {
   "cell_type": "markdown",
   "source": [
    "## Calculate total revenue"
   ],
   "metadata": {
    "collapsed": false,
    "pycharm": {
     "name": "#%% md\n"
    }
   }
  },
  {
   "cell_type": "code",
   "execution_count": 89,
   "outputs": [],
   "source": [
    "def calculate_revenue(plan, version):\n",
    "    revenue_purchases = round(ab_test_results[plan+' purchases'].loc[ab_test_results['Version'] == version].values[0] * plans.get(plan), 2)\n",
    "    revenue_renews = round(ab_test_results[plan+' renewals'].loc[ab_test_results['Version'] == version].values[0] * plans.get(plan), 2)\n",
    "    total_revenue = round(revenue_purchases+revenue_renews, 2)\n",
    "    return total_revenue, revenue_purchases, revenue_renews"
   ],
   "metadata": {
    "collapsed": false,
    "pycharm": {
     "name": "#%%\n"
    }
   }
  },
  {
   "cell_type": "code",
   "execution_count": 90,
   "outputs": [],
   "source": [
    "a_gold_revenue = calculate_revenue('Gold', 'a')[0]\n",
    "a_silver_revenue = calculate_revenue('Silver', 'a')[0]\n",
    "a_bronze_revenue = calculate_revenue('Bronze', 'a')[0]"
   ],
   "metadata": {
    "collapsed": false,
    "pycharm": {
     "name": "#%%\n"
    }
   }
  },
  {
   "cell_type": "code",
   "execution_count": 91,
   "outputs": [],
   "source": [
    "b_gold_revenue = calculate_revenue('Gold', 'b')[0]\n",
    "b_silver_revenue = calculate_revenue('Silver', 'b')[0]\n",
    "b_bronze_revenue = calculate_revenue('Bronze', 'b')[0]"
   ],
   "metadata": {
    "collapsed": false,
    "pycharm": {
     "name": "#%%\n"
    }
   }
  },
  {
   "cell_type": "code",
   "execution_count": 92,
   "outputs": [],
   "source": [
    "c_gold_revenue = calculate_revenue('Gold', 'c')[0]\n",
    "c_silver_revenue = calculate_revenue('Silver', 'c')[0]\n",
    "c_bronze_revenue = calculate_revenue('Bronze', 'c')[0]"
   ],
   "metadata": {
    "collapsed": false,
    "pycharm": {
     "name": "#%%\n"
    }
   }
  },
  {
   "cell_type": "code",
   "execution_count": 216,
   "outputs": [],
   "source": [
    "control_group_revenue = a_gold_revenue + a_silver_revenue + a_bronze_revenue\n",
    "b_group_revenue = b_gold_revenue + b_silver_revenue + b_bronze_revenue\n",
    "c_group_revenue = c_gold_revenue + c_silver_revenue + c_bronze_revenue"
   ],
   "metadata": {
    "collapsed": false,
    "pycharm": {
     "name": "#%%\n"
    }
   }
  },
  {
   "cell_type": "code",
   "execution_count": 237,
   "outputs": [
    {
     "data": {
      "text/plain": "                  Gold   Silver   Bronze  Total, $  Change, %\nControl group  1307.90  6139.15  2059.20   9506.25       0.00\nB              1483.35  6885.40  1984.95  10353.70       8.91\nC              1180.30  7651.55  1564.20  10396.05       9.36",
      "text/html": "<div>\n<style scoped>\n    .dataframe tbody tr th:only-of-type {\n        vertical-align: middle;\n    }\n\n    .dataframe tbody tr th {\n        vertical-align: top;\n    }\n\n    .dataframe thead th {\n        text-align: right;\n    }\n</style>\n<table border=\"1\" class=\"dataframe\">\n  <thead>\n    <tr style=\"text-align: right;\">\n      <th></th>\n      <th>Gold</th>\n      <th>Silver</th>\n      <th>Bronze</th>\n      <th>Total, $</th>\n      <th>Change, %</th>\n    </tr>\n  </thead>\n  <tbody>\n    <tr>\n      <th>Control group</th>\n      <td>1307.90</td>\n      <td>6139.15</td>\n      <td>2059.20</td>\n      <td>9506.25</td>\n      <td>0.00</td>\n    </tr>\n    <tr>\n      <th>B</th>\n      <td>1483.35</td>\n      <td>6885.40</td>\n      <td>1984.95</td>\n      <td>10353.70</td>\n      <td>8.91</td>\n    </tr>\n    <tr>\n      <th>C</th>\n      <td>1180.30</td>\n      <td>7651.55</td>\n      <td>1564.20</td>\n      <td>10396.05</td>\n      <td>9.36</td>\n    </tr>\n  </tbody>\n</table>\n</div>"
     },
     "execution_count": 237,
     "metadata": {},
     "output_type": "execute_result"
    }
   ],
   "source": [
    "total_revenues = pd.DataFrame([[a_gold_revenue, a_silver_revenue, a_bronze_revenue, control_group_revenue, 0],[b_gold_revenue, b_silver_revenue, b_bronze_revenue, b_group_revenue, round(b_group_revenue/control_group_revenue*100-100, 2)],[c_gold_revenue, c_silver_revenue, c_bronze_revenue, c_group_revenue, round(c_group_revenue/control_group_revenue*100-100, 2)]], columns=['Gold', 'Silver', 'Bronze', 'Total, $', 'Change, %'], index=['Control group', 'B', 'C'])\n",
    "total_revenues"
   ],
   "metadata": {
    "collapsed": false,
    "pycharm": {
     "name": "#%%\n"
    }
   }
  },
  {
   "cell_type": "code",
   "execution_count": 388,
   "outputs": [],
   "source": [
    "total_revenues.to_csv('total_revenue.csv')"
   ],
   "metadata": {
    "collapsed": false,
    "pycharm": {
     "name": "#%%\n"
    }
   }
  },
  {
   "cell_type": "code",
   "execution_count": 222,
   "outputs": [],
   "source": [
    "## calculate renewals\n",
    "\n",
    "a_gold_revenue_renew = calculate_revenue('Gold', 'a')[2]\n",
    "a_silver_revenue_renew = calculate_revenue('Silver', 'a')[2]\n",
    "a_bronze_revenue_renew = calculate_revenue('Bronze', 'a')[2]\n",
    "\n",
    "b_gold_revenue_renew = calculate_revenue('Gold', 'b')[2]\n",
    "b_silver_revenue_renew = calculate_revenue('Silver', 'b')[2]\n",
    "b_bronze_revenue_renew = calculate_revenue('Bronze', 'b')[2]\n",
    "\n",
    "c_gold_revenue_renew = calculate_revenue('Gold', 'c')[2]\n",
    "c_silver_revenue_renew = calculate_revenue('Silver', 'c')[2]\n",
    "c_bronze_revenue_renew = calculate_revenue('Bronze', 'c')[2]\n",
    "\n",
    "control_group_revenue_renew = a_gold_revenue_renew + a_silver_revenue_renew + a_bronze_revenue_renew\n",
    "b_group_revenue_renew = b_gold_revenue_renew + b_silver_revenue_renew + b_bronze_revenue_renew\n",
    "c_group_revenue_renew = c_gold_revenue_renew + c_silver_revenue_renew + c_bronze_revenue_renew"
   ],
   "metadata": {
    "collapsed": false,
    "pycharm": {
     "name": "#%%\n"
    }
   }
  },
  {
   "cell_type": "markdown",
   "source": [],
   "metadata": {
    "collapsed": false
   }
  },
  {
   "cell_type": "code",
   "execution_count": 389,
   "outputs": [
    {
     "data": {
      "text/plain": "                 Gold   Silver  Bronze  Total, $  Change, %\nControl group  494.45  2527.30  945.45   3967.20       0.00\nB              558.25  2776.05  846.45   4180.75       5.38\nC              382.80  2994.95  683.10   4060.85       2.36",
      "text/html": "<div>\n<style scoped>\n    .dataframe tbody tr th:only-of-type {\n        vertical-align: middle;\n    }\n\n    .dataframe tbody tr th {\n        vertical-align: top;\n    }\n\n    .dataframe thead th {\n        text-align: right;\n    }\n</style>\n<table border=\"1\" class=\"dataframe\">\n  <thead>\n    <tr style=\"text-align: right;\">\n      <th></th>\n      <th>Gold</th>\n      <th>Silver</th>\n      <th>Bronze</th>\n      <th>Total, $</th>\n      <th>Change, %</th>\n    </tr>\n  </thead>\n  <tbody>\n    <tr>\n      <th>Control group</th>\n      <td>494.45</td>\n      <td>2527.30</td>\n      <td>945.45</td>\n      <td>3967.20</td>\n      <td>0.00</td>\n    </tr>\n    <tr>\n      <th>B</th>\n      <td>558.25</td>\n      <td>2776.05</td>\n      <td>846.45</td>\n      <td>4180.75</td>\n      <td>5.38</td>\n    </tr>\n    <tr>\n      <th>C</th>\n      <td>382.80</td>\n      <td>2994.95</td>\n      <td>683.10</td>\n      <td>4060.85</td>\n      <td>2.36</td>\n    </tr>\n  </tbody>\n</table>\n</div>"
     },
     "execution_count": 389,
     "metadata": {},
     "output_type": "execute_result"
    }
   ],
   "source": [
    "total_revenues_renew = pd.DataFrame([[a_gold_revenue_renew, a_silver_revenue_renew, a_bronze_revenue_renew, control_group_revenue_renew, 0],[b_gold_revenue_renew, b_silver_revenue_renew, b_bronze_revenue_renew, b_group_revenue_renew, round(b_group_revenue_renew/control_group_revenue_renew*100-100, 2)],[c_gold_revenue_renew, c_silver_revenue_renew, c_bronze_revenue_renew, c_group_revenue_renew, round(c_group_revenue_renew/control_group_revenue_renew*100-100, 2)]], columns=['Gold', 'Silver', 'Bronze', 'Total, $', 'Change, %'], index=['Control group', 'B', 'C'])\n",
    "total_revenues_renew.to_csv('total_renewals.csv')\n",
    "\n",
    "total_revenues_renew"
   ],
   "metadata": {
    "collapsed": false,
    "pycharm": {
     "name": "#%%\n"
    }
   }
  },
  {
   "cell_type": "code",
   "execution_count": 390,
   "outputs": [
    {
     "data": {
      "text/plain": "                              a      b      c\nGold new                   0.17   0.19   0.17\nGold renew                60.78  60.34  48.00\nSilver new                 1.21   1.37   1.55\nSilver renew              69.97  67.55  64.32\nBronze new                 0.75   0.76   0.59\nBronze renew              84.89  74.35  77.53\nTotal new conversion       2.13   2.33   2.31\nTotal renewal conversion  74.49  69.19  66.52",
      "text/html": "<div>\n<style scoped>\n    .dataframe tbody tr th:only-of-type {\n        vertical-align: middle;\n    }\n\n    .dataframe tbody tr th {\n        vertical-align: top;\n    }\n\n    .dataframe thead th {\n        text-align: right;\n    }\n</style>\n<table border=\"1\" class=\"dataframe\">\n  <thead>\n    <tr style=\"text-align: right;\">\n      <th></th>\n      <th>a</th>\n      <th>b</th>\n      <th>c</th>\n    </tr>\n  </thead>\n  <tbody>\n    <tr>\n      <th>Gold new</th>\n      <td>0.17</td>\n      <td>0.19</td>\n      <td>0.17</td>\n    </tr>\n    <tr>\n      <th>Gold renew</th>\n      <td>60.78</td>\n      <td>60.34</td>\n      <td>48.00</td>\n    </tr>\n    <tr>\n      <th>Silver new</th>\n      <td>1.21</td>\n      <td>1.37</td>\n      <td>1.55</td>\n    </tr>\n    <tr>\n      <th>Silver renew</th>\n      <td>69.97</td>\n      <td>67.55</td>\n      <td>64.32</td>\n    </tr>\n    <tr>\n      <th>Bronze new</th>\n      <td>0.75</td>\n      <td>0.76</td>\n      <td>0.59</td>\n    </tr>\n    <tr>\n      <th>Bronze renew</th>\n      <td>84.89</td>\n      <td>74.35</td>\n      <td>77.53</td>\n    </tr>\n    <tr>\n      <th>Total new conversion</th>\n      <td>2.13</td>\n      <td>2.33</td>\n      <td>2.31</td>\n    </tr>\n    <tr>\n      <th>Total renewal conversion</th>\n      <td>74.49</td>\n      <td>69.19</td>\n      <td>66.52</td>\n    </tr>\n  </tbody>\n</table>\n</div>"
     },
     "execution_count": 390,
     "metadata": {},
     "output_type": "execute_result"
    }
   ],
   "source": [
    "conversion_rates.to_csv('convers_rate.csv')\n",
    "conversion_rates"
   ],
   "metadata": {
    "collapsed": false,
    "pycharm": {
     "name": "#%%\n"
    }
   }
  },
  {
   "cell_type": "code",
   "execution_count": null,
   "outputs": [],
   "source": [],
   "metadata": {
    "collapsed": false,
    "pycharm": {
     "name": "#%%\n"
    }
   }
  },
  {
   "cell_type": "code",
   "execution_count": null,
   "outputs": [],
   "source": [],
   "metadata": {
    "collapsed": false,
    "pycharm": {
     "name": "#%%\n"
    }
   }
  },
  {
   "cell_type": "markdown",
   "source": [
    "## ___________\n",
    "## 3. Retention"
   ],
   "metadata": {
    "collapsed": false,
    "pycharm": {
     "name": "#%% md\n"
    }
   }
  },
  {
   "cell_type": "code",
   "execution_count": 321,
   "outputs": [],
   "source": [
    "retention_percent = [91.80,\n",
    "76.10,\n",
    "66.00,\n",
    "57.20,\n",
    "52.10,\n",
    "48.70,\n",
    "45.60,\n",
    "42.00,\n",
    "39.60,\n",
    "37.20,\n",
    "34.80,\n",
    "33.40,\n",
    "32.40,\n",
    "31.20,\n",
    "30.00,\n",
    "28.80,\n",
    "27.60,\n",
    "26.40,\n",
    "25.20,\n",
    "24.00,\n",
    "22.80,\n",
    "21.60,\n",
    "20.40,\n",
    "19.20,]\n",
    "retention_rate = []\n",
    "\n",
    "for percent in retention_percent:\n",
    "    rate = round(percent/100, 4)\n",
    "    retention_rate.append(rate)"
   ],
   "metadata": {
    "collapsed": false,
    "pycharm": {
     "name": "#%%\n"
    }
   }
  },
  {
   "cell_type": "code",
   "execution_count": 342,
   "outputs": [],
   "source": [
    "base_monthly_signups = 5000\n",
    "base_conver_rate = 0.02\n",
    "price_subscr = 10\n",
    "\n",
    "all_cohorts_revenue = {}\n",
    "total_sum = 0\n",
    "\n",
    "for cohort in range(1, 25):\n",
    "    ## check events in April 2021\n",
    "    # check April to descrease sigups level\n",
    "    if cohort == 16:\n",
    "        base_monthly_signups = base_monthly_signups * 0.85\n",
    "        base_conver_rate = base_conver_rate * 1.05\n",
    "    elif cohort > 16:\n",
    "        monthly_signups = base_monthly_signups\n",
    "        base_conver_rate = base_conver_rate * 1.05\n",
    "\n",
    "    current_signups = base_monthly_signups\n",
    "    current_conver_rate = base_conver_rate\n",
    "\n",
    "    #calculating data for cohort\n",
    "    cohort_revenue = {}\n",
    "\n",
    "    new_purchases = round(current_signups * current_conver_rate * price_subscr, 2)\n",
    "\n",
    "    new_purchases_dict = {}\n",
    "    new_purchases_dict[cohort] = new_purchases\n",
    "    cohort_revenue.update(new_purchases_dict)\n",
    "    total_sum = total_sum + new_purchases\n",
    "\n",
    "    retention_counter = 0\n",
    "    # calculate renewals for this cohort\n",
    "    for renewal_month in range(cohort+1,25):\n",
    "        ## calculate for each cohort\n",
    "        retentioned_signups = current_signups * retention_rate[retention_counter]\n",
    "        monthly_renewals = round(retentioned_signups * current_conver_rate * price_subscr, 2)\n",
    "        total_sum = total_sum + monthly_renewals\n",
    "        current_month_renewals = {}\n",
    "        current_month_renewals[renewal_month] = monthly_renewals\n",
    "        cohort_revenue.update(current_month_renewals)\n",
    "        retention_counter = retention_counter + 1\n",
    "\n",
    "    all_cohorts_revenue[cohort] = {}\n",
    "    all_cohorts_revenue[cohort].update(cohort_revenue)\n",
    "    #print(cohort)\n",
    "    #print(current_signups)\n",
    "    #print(current_conver_rate)\n",
    "    #print('______')"
   ],
   "metadata": {
    "collapsed": false,
    "pycharm": {
     "name": "#%%\n"
    }
   }
  },
  {
   "cell_type": "code",
   "execution_count": 343,
   "outputs": [
    {
     "data": {
      "text/plain": "{1: {1: 1000.0,\n  2: 918.0,\n  3: 761.0,\n  4: 660.0,\n  5: 572.0,\n  6: 521.0,\n  7: 487.0,\n  8: 456.0,\n  9: 420.0,\n  10: 396.0,\n  11: 372.0,\n  12: 348.0,\n  13: 334.0,\n  14: 324.0,\n  15: 312.0,\n  16: 300.0,\n  17: 288.0,\n  18: 276.0,\n  19: 264.0,\n  20: 252.0,\n  21: 240.0,\n  22: 228.0,\n  23: 216.0,\n  24: 204.0},\n 2: {2: 1000.0,\n  3: 918.0,\n  4: 761.0,\n  5: 660.0,\n  6: 572.0,\n  7: 521.0,\n  8: 487.0,\n  9: 456.0,\n  10: 420.0,\n  11: 396.0,\n  12: 372.0,\n  13: 348.0,\n  14: 334.0,\n  15: 324.0,\n  16: 312.0,\n  17: 300.0,\n  18: 288.0,\n  19: 276.0,\n  20: 264.0,\n  21: 252.0,\n  22: 240.0,\n  23: 228.0,\n  24: 216.0},\n 3: {3: 1000.0,\n  4: 918.0,\n  5: 761.0,\n  6: 660.0,\n  7: 572.0,\n  8: 521.0,\n  9: 487.0,\n  10: 456.0,\n  11: 420.0,\n  12: 396.0,\n  13: 372.0,\n  14: 348.0,\n  15: 334.0,\n  16: 324.0,\n  17: 312.0,\n  18: 300.0,\n  19: 288.0,\n  20: 276.0,\n  21: 264.0,\n  22: 252.0,\n  23: 240.0,\n  24: 228.0},\n 4: {4: 1000.0,\n  5: 918.0,\n  6: 761.0,\n  7: 660.0,\n  8: 572.0,\n  9: 521.0,\n  10: 487.0,\n  11: 456.0,\n  12: 420.0,\n  13: 396.0,\n  14: 372.0,\n  15: 348.0,\n  16: 334.0,\n  17: 324.0,\n  18: 312.0,\n  19: 300.0,\n  20: 288.0,\n  21: 276.0,\n  22: 264.0,\n  23: 252.0,\n  24: 240.0},\n 5: {5: 1000.0,\n  6: 918.0,\n  7: 761.0,\n  8: 660.0,\n  9: 572.0,\n  10: 521.0,\n  11: 487.0,\n  12: 456.0,\n  13: 420.0,\n  14: 396.0,\n  15: 372.0,\n  16: 348.0,\n  17: 334.0,\n  18: 324.0,\n  19: 312.0,\n  20: 300.0,\n  21: 288.0,\n  22: 276.0,\n  23: 264.0,\n  24: 252.0},\n 6: {6: 1000.0,\n  7: 918.0,\n  8: 761.0,\n  9: 660.0,\n  10: 572.0,\n  11: 521.0,\n  12: 487.0,\n  13: 456.0,\n  14: 420.0,\n  15: 396.0,\n  16: 372.0,\n  17: 348.0,\n  18: 334.0,\n  19: 324.0,\n  20: 312.0,\n  21: 300.0,\n  22: 288.0,\n  23: 276.0,\n  24: 264.0},\n 7: {7: 1000.0,\n  8: 918.0,\n  9: 761.0,\n  10: 660.0,\n  11: 572.0,\n  12: 521.0,\n  13: 487.0,\n  14: 456.0,\n  15: 420.0,\n  16: 396.0,\n  17: 372.0,\n  18: 348.0,\n  19: 334.0,\n  20: 324.0,\n  21: 312.0,\n  22: 300.0,\n  23: 288.0,\n  24: 276.0},\n 8: {8: 1000.0,\n  9: 918.0,\n  10: 761.0,\n  11: 660.0,\n  12: 572.0,\n  13: 521.0,\n  14: 487.0,\n  15: 456.0,\n  16: 420.0,\n  17: 396.0,\n  18: 372.0,\n  19: 348.0,\n  20: 334.0,\n  21: 324.0,\n  22: 312.0,\n  23: 300.0,\n  24: 288.0},\n 9: {9: 1000.0,\n  10: 918.0,\n  11: 761.0,\n  12: 660.0,\n  13: 572.0,\n  14: 521.0,\n  15: 487.0,\n  16: 456.0,\n  17: 420.0,\n  18: 396.0,\n  19: 372.0,\n  20: 348.0,\n  21: 334.0,\n  22: 324.0,\n  23: 312.0,\n  24: 300.0},\n 10: {10: 1000.0,\n  11: 918.0,\n  12: 761.0,\n  13: 660.0,\n  14: 572.0,\n  15: 521.0,\n  16: 487.0,\n  17: 456.0,\n  18: 420.0,\n  19: 396.0,\n  20: 372.0,\n  21: 348.0,\n  22: 334.0,\n  23: 324.0,\n  24: 312.0},\n 11: {11: 1000.0,\n  12: 918.0,\n  13: 761.0,\n  14: 660.0,\n  15: 572.0,\n  16: 521.0,\n  17: 487.0,\n  18: 456.0,\n  19: 420.0,\n  20: 396.0,\n  21: 372.0,\n  22: 348.0,\n  23: 334.0,\n  24: 324.0},\n 12: {12: 1000.0,\n  13: 918.0,\n  14: 761.0,\n  15: 660.0,\n  16: 572.0,\n  17: 521.0,\n  18: 487.0,\n  19: 456.0,\n  20: 420.0,\n  21: 396.0,\n  22: 372.0,\n  23: 348.0,\n  24: 334.0},\n 13: {13: 1000.0,\n  14: 918.0,\n  15: 761.0,\n  16: 660.0,\n  17: 572.0,\n  18: 521.0,\n  19: 487.0,\n  20: 456.0,\n  21: 420.0,\n  22: 396.0,\n  23: 372.0,\n  24: 348.0},\n 14: {14: 1000.0,\n  15: 918.0,\n  16: 761.0,\n  17: 660.0,\n  18: 572.0,\n  19: 521.0,\n  20: 487.0,\n  21: 456.0,\n  22: 420.0,\n  23: 396.0,\n  24: 372.0},\n 15: {15: 1000.0,\n  16: 918.0,\n  17: 761.0,\n  18: 660.0,\n  19: 572.0,\n  20: 521.0,\n  21: 487.0,\n  22: 456.0,\n  23: 420.0,\n  24: 396.0},\n 16: {16: 892.5,\n  17: 819.32,\n  18: 679.19,\n  19: 589.05,\n  20: 510.51,\n  21: 464.99,\n  22: 434.65,\n  23: 406.98,\n  24: 374.85},\n 17: {17: 937.13,\n  18: 860.28,\n  19: 713.15,\n  20: 618.5,\n  21: 536.04,\n  22: 488.24,\n  23: 456.38,\n  24: 427.33},\n 18: {18: 983.98,\n  19: 903.29,\n  20: 748.81,\n  21: 649.43,\n  22: 562.84,\n  23: 512.65,\n  24: 479.2},\n 19: {19: 1033.18, 20: 948.46, 21: 786.25, 22: 681.9, 23: 590.98, 24: 538.29},\n 20: {20: 1084.84, 21: 995.88, 22: 825.56, 23: 715.99, 24: 620.53},\n 21: {21: 1139.08, 22: 1045.68, 23: 866.84, 24: 751.79},\n 22: {22: 1196.04, 23: 1097.96, 24: 910.18},\n 23: {23: 1255.84, 24: 1152.86},\n 24: {24: 1318.63}}"
     },
     "execution_count": 343,
     "metadata": {},
     "output_type": "execute_result"
    }
   ],
   "source": [
    "all_cohorts_revenue"
   ],
   "metadata": {
    "collapsed": false,
    "pycharm": {
     "name": "#%%\n"
    }
   }
  },
  {
   "cell_type": "code",
   "execution_count": null,
   "outputs": [],
   "source": [
    "cohorts = pd"
   ],
   "metadata": {
    "collapsed": false,
    "pycharm": {
     "name": "#%%\n"
    }
   }
  },
  {
   "cell_type": "code",
   "execution_count": 330,
   "outputs": [
    {
     "data": {
      "text/plain": "159955.04999999996"
     },
     "execution_count": 330,
     "metadata": {},
     "output_type": "execute_result"
    }
   ],
   "source": [
    "total_sum"
   ],
   "metadata": {
    "collapsed": false,
    "pycharm": {
     "name": "#%%\n"
    }
   }
  },
  {
   "cell_type": "code",
   "execution_count": 379,
   "outputs": [
    {
     "ename": "ValueError",
     "evalue": "If using all scalar values, you must pass an index",
     "output_type": "error",
     "traceback": [
      "\u001B[0;31m---------------------------------------------------------------------------\u001B[0m",
      "\u001B[0;31mValueError\u001B[0m                                Traceback (most recent call last)",
      "\u001B[0;32m/var/folders/03/r0hzwq3x2zj_45vlgcn_j33m0000gn/T/ipykernel_10210/3490282381.py\u001B[0m in \u001B[0;36m<module>\u001B[0;34m\u001B[0m\n\u001B[1;32m      4\u001B[0m \u001B[0;32mfor\u001B[0m \u001B[0mcohort\u001B[0m\u001B[0;34m,\u001B[0m \u001B[0md\u001B[0m \u001B[0;32min\u001B[0m \u001B[0mall_cohorts_revenue\u001B[0m\u001B[0;34m.\u001B[0m\u001B[0mitems\u001B[0m\u001B[0;34m(\u001B[0m\u001B[0;34m)\u001B[0m\u001B[0;34m:\u001B[0m\u001B[0;34m\u001B[0m\u001B[0;34m\u001B[0m\u001B[0m\n\u001B[1;32m      5\u001B[0m     \u001B[0mcohort_names\u001B[0m\u001B[0;34m.\u001B[0m\u001B[0mappend\u001B[0m\u001B[0;34m(\u001B[0m\u001B[0;34m'Cohort # '\u001B[0m\u001B[0;34m+\u001B[0m\u001B[0mstr\u001B[0m\u001B[0;34m(\u001B[0m\u001B[0mcohort\u001B[0m\u001B[0;34m)\u001B[0m\u001B[0;34m)\u001B[0m\u001B[0;34m\u001B[0m\u001B[0;34m\u001B[0m\u001B[0m\n\u001B[0;32m----> 6\u001B[0;31m     \u001B[0mcohort_ltv\u001B[0m\u001B[0;34m.\u001B[0m\u001B[0mappend\u001B[0m\u001B[0;34m(\u001B[0m\u001B[0mpd\u001B[0m\u001B[0;34m.\u001B[0m\u001B[0mDataFrame\u001B[0m\u001B[0;34m(\u001B[0m\u001B[0mall_cohorts_revenue\u001B[0m\u001B[0;34m[\u001B[0m\u001B[0mcohort\u001B[0m\u001B[0;34m]\u001B[0m\u001B[0;34m)\u001B[0m\u001B[0;34m)\u001B[0m\u001B[0;34m\u001B[0m\u001B[0;34m\u001B[0m\u001B[0m\n\u001B[0m\u001B[1;32m      7\u001B[0m \u001B[0;34m\u001B[0m\u001B[0m\n\u001B[1;32m      8\u001B[0m \u001B[0mrevenue_pd\u001B[0m \u001B[0;34m=\u001B[0m \u001B[0mpd\u001B[0m\u001B[0;34m.\u001B[0m\u001B[0mconcat\u001B[0m\u001B[0;34m(\u001B[0m\u001B[0mcohort_ltv\u001B[0m\u001B[0;34m,\u001B[0m \u001B[0mkeys\u001B[0m\u001B[0;34m=\u001B[0m\u001B[0mcohort_names\u001B[0m\u001B[0;34m)\u001B[0m\u001B[0;34m\u001B[0m\u001B[0;34m\u001B[0m\u001B[0m\n",
      "\u001B[0;32m/Library/Frameworks/Python.framework/Versions/3.10/lib/python3.10/site-packages/pandas/core/frame.py\u001B[0m in \u001B[0;36m__init__\u001B[0;34m(self, data, index, columns, dtype, copy)\u001B[0m\n\u001B[1;32m    612\u001B[0m         \u001B[0;32melif\u001B[0m \u001B[0misinstance\u001B[0m\u001B[0;34m(\u001B[0m\u001B[0mdata\u001B[0m\u001B[0;34m,\u001B[0m \u001B[0mdict\u001B[0m\u001B[0;34m)\u001B[0m\u001B[0;34m:\u001B[0m\u001B[0;34m\u001B[0m\u001B[0;34m\u001B[0m\u001B[0m\n\u001B[1;32m    613\u001B[0m             \u001B[0;31m# GH#38939 de facto copy defaults to False only in non-dict cases\u001B[0m\u001B[0;34m\u001B[0m\u001B[0;34m\u001B[0m\u001B[0m\n\u001B[0;32m--> 614\u001B[0;31m             \u001B[0mmgr\u001B[0m \u001B[0;34m=\u001B[0m \u001B[0mdict_to_mgr\u001B[0m\u001B[0;34m(\u001B[0m\u001B[0mdata\u001B[0m\u001B[0;34m,\u001B[0m \u001B[0mindex\u001B[0m\u001B[0;34m,\u001B[0m \u001B[0mcolumns\u001B[0m\u001B[0;34m,\u001B[0m \u001B[0mdtype\u001B[0m\u001B[0;34m=\u001B[0m\u001B[0mdtype\u001B[0m\u001B[0;34m,\u001B[0m \u001B[0mcopy\u001B[0m\u001B[0;34m=\u001B[0m\u001B[0mcopy\u001B[0m\u001B[0;34m,\u001B[0m \u001B[0mtyp\u001B[0m\u001B[0;34m=\u001B[0m\u001B[0mmanager\u001B[0m\u001B[0;34m)\u001B[0m\u001B[0;34m\u001B[0m\u001B[0;34m\u001B[0m\u001B[0m\n\u001B[0m\u001B[1;32m    615\u001B[0m         \u001B[0;32melif\u001B[0m \u001B[0misinstance\u001B[0m\u001B[0;34m(\u001B[0m\u001B[0mdata\u001B[0m\u001B[0;34m,\u001B[0m \u001B[0mma\u001B[0m\u001B[0;34m.\u001B[0m\u001B[0mMaskedArray\u001B[0m\u001B[0;34m)\u001B[0m\u001B[0;34m:\u001B[0m\u001B[0;34m\u001B[0m\u001B[0;34m\u001B[0m\u001B[0m\n\u001B[1;32m    616\u001B[0m             \u001B[0;32mimport\u001B[0m \u001B[0mnumpy\u001B[0m\u001B[0;34m.\u001B[0m\u001B[0mma\u001B[0m\u001B[0;34m.\u001B[0m\u001B[0mmrecords\u001B[0m \u001B[0;32mas\u001B[0m \u001B[0mmrecords\u001B[0m\u001B[0;34m\u001B[0m\u001B[0;34m\u001B[0m\u001B[0m\n",
      "\u001B[0;32m/Library/Frameworks/Python.framework/Versions/3.10/lib/python3.10/site-packages/pandas/core/internals/construction.py\u001B[0m in \u001B[0;36mdict_to_mgr\u001B[0;34m(data, index, columns, dtype, typ, copy)\u001B[0m\n\u001B[1;32m    462\u001B[0m         \u001B[0;31m# TODO: can we get rid of the dt64tz special case above?\u001B[0m\u001B[0;34m\u001B[0m\u001B[0;34m\u001B[0m\u001B[0m\n\u001B[1;32m    463\u001B[0m \u001B[0;34m\u001B[0m\u001B[0m\n\u001B[0;32m--> 464\u001B[0;31m     return arrays_to_mgr(\n\u001B[0m\u001B[1;32m    465\u001B[0m         \u001B[0marrays\u001B[0m\u001B[0;34m,\u001B[0m \u001B[0mdata_names\u001B[0m\u001B[0;34m,\u001B[0m \u001B[0mindex\u001B[0m\u001B[0;34m,\u001B[0m \u001B[0mcolumns\u001B[0m\u001B[0;34m,\u001B[0m \u001B[0mdtype\u001B[0m\u001B[0;34m=\u001B[0m\u001B[0mdtype\u001B[0m\u001B[0;34m,\u001B[0m \u001B[0mtyp\u001B[0m\u001B[0;34m=\u001B[0m\u001B[0mtyp\u001B[0m\u001B[0;34m,\u001B[0m \u001B[0mconsolidate\u001B[0m\u001B[0;34m=\u001B[0m\u001B[0mcopy\u001B[0m\u001B[0;34m\u001B[0m\u001B[0;34m\u001B[0m\u001B[0m\n\u001B[1;32m    466\u001B[0m     )\n",
      "\u001B[0;32m/Library/Frameworks/Python.framework/Versions/3.10/lib/python3.10/site-packages/pandas/core/internals/construction.py\u001B[0m in \u001B[0;36marrays_to_mgr\u001B[0;34m(arrays, arr_names, index, columns, dtype, verify_integrity, typ, consolidate)\u001B[0m\n\u001B[1;32m    117\u001B[0m         \u001B[0;31m# figure out the index, if necessary\u001B[0m\u001B[0;34m\u001B[0m\u001B[0;34m\u001B[0m\u001B[0m\n\u001B[1;32m    118\u001B[0m         \u001B[0;32mif\u001B[0m \u001B[0mindex\u001B[0m \u001B[0;32mis\u001B[0m \u001B[0;32mNone\u001B[0m\u001B[0;34m:\u001B[0m\u001B[0;34m\u001B[0m\u001B[0;34m\u001B[0m\u001B[0m\n\u001B[0;32m--> 119\u001B[0;31m             \u001B[0mindex\u001B[0m \u001B[0;34m=\u001B[0m \u001B[0m_extract_index\u001B[0m\u001B[0;34m(\u001B[0m\u001B[0marrays\u001B[0m\u001B[0;34m)\u001B[0m\u001B[0;34m\u001B[0m\u001B[0;34m\u001B[0m\u001B[0m\n\u001B[0m\u001B[1;32m    120\u001B[0m         \u001B[0;32melse\u001B[0m\u001B[0;34m:\u001B[0m\u001B[0;34m\u001B[0m\u001B[0;34m\u001B[0m\u001B[0m\n\u001B[1;32m    121\u001B[0m             \u001B[0mindex\u001B[0m \u001B[0;34m=\u001B[0m \u001B[0mensure_index\u001B[0m\u001B[0;34m(\u001B[0m\u001B[0mindex\u001B[0m\u001B[0;34m)\u001B[0m\u001B[0;34m\u001B[0m\u001B[0;34m\u001B[0m\u001B[0m\n",
      "\u001B[0;32m/Library/Frameworks/Python.framework/Versions/3.10/lib/python3.10/site-packages/pandas/core/internals/construction.py\u001B[0m in \u001B[0;36m_extract_index\u001B[0;34m(data)\u001B[0m\n\u001B[1;32m    623\u001B[0m \u001B[0;34m\u001B[0m\u001B[0m\n\u001B[1;32m    624\u001B[0m         \u001B[0;32mif\u001B[0m \u001B[0;32mnot\u001B[0m \u001B[0mindexes\u001B[0m \u001B[0;32mand\u001B[0m \u001B[0;32mnot\u001B[0m \u001B[0mraw_lengths\u001B[0m\u001B[0;34m:\u001B[0m\u001B[0;34m\u001B[0m\u001B[0;34m\u001B[0m\u001B[0m\n\u001B[0;32m--> 625\u001B[0;31m             \u001B[0;32mraise\u001B[0m \u001B[0mValueError\u001B[0m\u001B[0;34m(\u001B[0m\u001B[0;34m\"If using all scalar values, you must pass an index\"\u001B[0m\u001B[0;34m)\u001B[0m\u001B[0;34m\u001B[0m\u001B[0;34m\u001B[0m\u001B[0m\n\u001B[0m\u001B[1;32m    626\u001B[0m \u001B[0;34m\u001B[0m\u001B[0m\n\u001B[1;32m    627\u001B[0m         \u001B[0;32mif\u001B[0m \u001B[0mhave_series\u001B[0m\u001B[0;34m:\u001B[0m\u001B[0;34m\u001B[0m\u001B[0;34m\u001B[0m\u001B[0m\n",
      "\u001B[0;31mValueError\u001B[0m: If using all scalar values, you must pass an index"
     ]
    }
   ],
   "source": [
    "cohort_names = []\n",
    "cohort_ltv = []\n",
    "\n",
    "for cohort, d in all_cohorts_revenue.items():\n",
    "    cohort_names.append('Cohort # '+str(cohort))\n",
    "    cohort_ltv.append(pd.DataFrame(all_cohorts_revenue[cohort]))\n",
    "\n",
    "revenue_pd = pd.concat(cohort_ltv, keys=cohort_names)"
   ],
   "metadata": {
    "collapsed": false,
    "pycharm": {
     "name": "#%%\n"
    }
   }
  },
  {
   "cell_type": "code",
   "execution_count": 380,
   "outputs": [],
   "source": [
    "list_of_data = []\n",
    "for cohort in all_cohorts_revenue:\n",
    "    list_of_data.append(all_cohorts_revenue[cohort])"
   ],
   "metadata": {
    "collapsed": false,
    "pycharm": {
     "name": "#%%\n"
    }
   }
  },
  {
   "cell_type": "code",
   "execution_count": 381,
   "outputs": [
    {
     "data": {
      "text/plain": "[{1: 1000.0,\n  2: 918.0,\n  3: 761.0,\n  4: 660.0,\n  5: 572.0,\n  6: 521.0,\n  7: 487.0,\n  8: 456.0,\n  9: 420.0,\n  10: 396.0,\n  11: 372.0,\n  12: 348.0,\n  13: 334.0,\n  14: 324.0,\n  15: 312.0,\n  16: 300.0,\n  17: 288.0,\n  18: 276.0,\n  19: 264.0,\n  20: 252.0,\n  21: 240.0,\n  22: 228.0,\n  23: 216.0,\n  24: 204.0},\n {2: 1000.0,\n  3: 918.0,\n  4: 761.0,\n  5: 660.0,\n  6: 572.0,\n  7: 521.0,\n  8: 487.0,\n  9: 456.0,\n  10: 420.0,\n  11: 396.0,\n  12: 372.0,\n  13: 348.0,\n  14: 334.0,\n  15: 324.0,\n  16: 312.0,\n  17: 300.0,\n  18: 288.0,\n  19: 276.0,\n  20: 264.0,\n  21: 252.0,\n  22: 240.0,\n  23: 228.0,\n  24: 216.0},\n {3: 1000.0,\n  4: 918.0,\n  5: 761.0,\n  6: 660.0,\n  7: 572.0,\n  8: 521.0,\n  9: 487.0,\n  10: 456.0,\n  11: 420.0,\n  12: 396.0,\n  13: 372.0,\n  14: 348.0,\n  15: 334.0,\n  16: 324.0,\n  17: 312.0,\n  18: 300.0,\n  19: 288.0,\n  20: 276.0,\n  21: 264.0,\n  22: 252.0,\n  23: 240.0,\n  24: 228.0},\n {4: 1000.0,\n  5: 918.0,\n  6: 761.0,\n  7: 660.0,\n  8: 572.0,\n  9: 521.0,\n  10: 487.0,\n  11: 456.0,\n  12: 420.0,\n  13: 396.0,\n  14: 372.0,\n  15: 348.0,\n  16: 334.0,\n  17: 324.0,\n  18: 312.0,\n  19: 300.0,\n  20: 288.0,\n  21: 276.0,\n  22: 264.0,\n  23: 252.0,\n  24: 240.0},\n {5: 1000.0,\n  6: 918.0,\n  7: 761.0,\n  8: 660.0,\n  9: 572.0,\n  10: 521.0,\n  11: 487.0,\n  12: 456.0,\n  13: 420.0,\n  14: 396.0,\n  15: 372.0,\n  16: 348.0,\n  17: 334.0,\n  18: 324.0,\n  19: 312.0,\n  20: 300.0,\n  21: 288.0,\n  22: 276.0,\n  23: 264.0,\n  24: 252.0},\n {6: 1000.0,\n  7: 918.0,\n  8: 761.0,\n  9: 660.0,\n  10: 572.0,\n  11: 521.0,\n  12: 487.0,\n  13: 456.0,\n  14: 420.0,\n  15: 396.0,\n  16: 372.0,\n  17: 348.0,\n  18: 334.0,\n  19: 324.0,\n  20: 312.0,\n  21: 300.0,\n  22: 288.0,\n  23: 276.0,\n  24: 264.0},\n {7: 1000.0,\n  8: 918.0,\n  9: 761.0,\n  10: 660.0,\n  11: 572.0,\n  12: 521.0,\n  13: 487.0,\n  14: 456.0,\n  15: 420.0,\n  16: 396.0,\n  17: 372.0,\n  18: 348.0,\n  19: 334.0,\n  20: 324.0,\n  21: 312.0,\n  22: 300.0,\n  23: 288.0,\n  24: 276.0},\n {8: 1000.0,\n  9: 918.0,\n  10: 761.0,\n  11: 660.0,\n  12: 572.0,\n  13: 521.0,\n  14: 487.0,\n  15: 456.0,\n  16: 420.0,\n  17: 396.0,\n  18: 372.0,\n  19: 348.0,\n  20: 334.0,\n  21: 324.0,\n  22: 312.0,\n  23: 300.0,\n  24: 288.0},\n {9: 1000.0,\n  10: 918.0,\n  11: 761.0,\n  12: 660.0,\n  13: 572.0,\n  14: 521.0,\n  15: 487.0,\n  16: 456.0,\n  17: 420.0,\n  18: 396.0,\n  19: 372.0,\n  20: 348.0,\n  21: 334.0,\n  22: 324.0,\n  23: 312.0,\n  24: 300.0},\n {10: 1000.0,\n  11: 918.0,\n  12: 761.0,\n  13: 660.0,\n  14: 572.0,\n  15: 521.0,\n  16: 487.0,\n  17: 456.0,\n  18: 420.0,\n  19: 396.0,\n  20: 372.0,\n  21: 348.0,\n  22: 334.0,\n  23: 324.0,\n  24: 312.0},\n {11: 1000.0,\n  12: 918.0,\n  13: 761.0,\n  14: 660.0,\n  15: 572.0,\n  16: 521.0,\n  17: 487.0,\n  18: 456.0,\n  19: 420.0,\n  20: 396.0,\n  21: 372.0,\n  22: 348.0,\n  23: 334.0,\n  24: 324.0},\n {12: 1000.0,\n  13: 918.0,\n  14: 761.0,\n  15: 660.0,\n  16: 572.0,\n  17: 521.0,\n  18: 487.0,\n  19: 456.0,\n  20: 420.0,\n  21: 396.0,\n  22: 372.0,\n  23: 348.0,\n  24: 334.0},\n {13: 1000.0,\n  14: 918.0,\n  15: 761.0,\n  16: 660.0,\n  17: 572.0,\n  18: 521.0,\n  19: 487.0,\n  20: 456.0,\n  21: 420.0,\n  22: 396.0,\n  23: 372.0,\n  24: 348.0},\n {14: 1000.0,\n  15: 918.0,\n  16: 761.0,\n  17: 660.0,\n  18: 572.0,\n  19: 521.0,\n  20: 487.0,\n  21: 456.0,\n  22: 420.0,\n  23: 396.0,\n  24: 372.0},\n {15: 1000.0,\n  16: 918.0,\n  17: 761.0,\n  18: 660.0,\n  19: 572.0,\n  20: 521.0,\n  21: 487.0,\n  22: 456.0,\n  23: 420.0,\n  24: 396.0},\n {16: 892.5,\n  17: 819.32,\n  18: 679.19,\n  19: 589.05,\n  20: 510.51,\n  21: 464.99,\n  22: 434.65,\n  23: 406.98,\n  24: 374.85},\n {17: 937.13,\n  18: 860.28,\n  19: 713.15,\n  20: 618.5,\n  21: 536.04,\n  22: 488.24,\n  23: 456.38,\n  24: 427.33},\n {18: 983.98,\n  19: 903.29,\n  20: 748.81,\n  21: 649.43,\n  22: 562.84,\n  23: 512.65,\n  24: 479.2},\n {19: 1033.18, 20: 948.46, 21: 786.25, 22: 681.9, 23: 590.98, 24: 538.29},\n {20: 1084.84, 21: 995.88, 22: 825.56, 23: 715.99, 24: 620.53},\n {21: 1139.08, 22: 1045.68, 23: 866.84, 24: 751.79},\n {22: 1196.04, 23: 1097.96, 24: 910.18},\n {23: 1255.84, 24: 1152.86},\n {24: 1318.63}]"
     },
     "execution_count": 381,
     "metadata": {},
     "output_type": "execute_result"
    }
   ],
   "source": [
    "list_of_data"
   ],
   "metadata": {
    "collapsed": false,
    "pycharm": {
     "name": "#%%\n"
    }
   }
  },
  {
   "cell_type": "code",
   "execution_count": 385,
   "outputs": [
    {
     "data": {
      "text/plain": "        1       2       3       4       5       6       7       8       9   \\\n1   1000.0   918.0   761.0   660.0   572.0   521.0   487.0   456.0   420.0   \n2      NaN  1000.0   918.0   761.0   660.0   572.0   521.0   487.0   456.0   \n3      NaN     NaN  1000.0   918.0   761.0   660.0   572.0   521.0   487.0   \n4      NaN     NaN     NaN  1000.0   918.0   761.0   660.0   572.0   521.0   \n5      NaN     NaN     NaN     NaN  1000.0   918.0   761.0   660.0   572.0   \n6      NaN     NaN     NaN     NaN     NaN  1000.0   918.0   761.0   660.0   \n7      NaN     NaN     NaN     NaN     NaN     NaN  1000.0   918.0   761.0   \n8      NaN     NaN     NaN     NaN     NaN     NaN     NaN  1000.0   918.0   \n9      NaN     NaN     NaN     NaN     NaN     NaN     NaN     NaN  1000.0   \n10     NaN     NaN     NaN     NaN     NaN     NaN     NaN     NaN     NaN   \n11     NaN     NaN     NaN     NaN     NaN     NaN     NaN     NaN     NaN   \n12     NaN     NaN     NaN     NaN     NaN     NaN     NaN     NaN     NaN   \n13     NaN     NaN     NaN     NaN     NaN     NaN     NaN     NaN     NaN   \n14     NaN     NaN     NaN     NaN     NaN     NaN     NaN     NaN     NaN   \n15     NaN     NaN     NaN     NaN     NaN     NaN     NaN     NaN     NaN   \n16     NaN     NaN     NaN     NaN     NaN     NaN     NaN     NaN     NaN   \n17     NaN     NaN     NaN     NaN     NaN     NaN     NaN     NaN     NaN   \n18     NaN     NaN     NaN     NaN     NaN     NaN     NaN     NaN     NaN   \n19     NaN     NaN     NaN     NaN     NaN     NaN     NaN     NaN     NaN   \n20     NaN     NaN     NaN     NaN     NaN     NaN     NaN     NaN     NaN   \n21     NaN     NaN     NaN     NaN     NaN     NaN     NaN     NaN     NaN   \n22     NaN     NaN     NaN     NaN     NaN     NaN     NaN     NaN     NaN   \n23     NaN     NaN     NaN     NaN     NaN     NaN     NaN     NaN     NaN   \n24     NaN     NaN     NaN     NaN     NaN     NaN     NaN     NaN     NaN   \n\n        10  ...      15     16      17      18       19       20       21  \\\n1    396.0  ...   312.0  300.0  288.00  276.00   264.00   252.00   240.00   \n2    420.0  ...   324.0  312.0  300.00  288.00   276.00   264.00   252.00   \n3    456.0  ...   334.0  324.0  312.00  300.00   288.00   276.00   264.00   \n4    487.0  ...   348.0  334.0  324.00  312.00   300.00   288.00   276.00   \n5    521.0  ...   372.0  348.0  334.00  324.00   312.00   300.00   288.00   \n6    572.0  ...   396.0  372.0  348.00  334.00   324.00   312.00   300.00   \n7    660.0  ...   420.0  396.0  372.00  348.00   334.00   324.00   312.00   \n8    761.0  ...   456.0  420.0  396.00  372.00   348.00   334.00   324.00   \n9    918.0  ...   487.0  456.0  420.00  396.00   372.00   348.00   334.00   \n10  1000.0  ...   521.0  487.0  456.00  420.00   396.00   372.00   348.00   \n11     NaN  ...   572.0  521.0  487.00  456.00   420.00   396.00   372.00   \n12     NaN  ...   660.0  572.0  521.00  487.00   456.00   420.00   396.00   \n13     NaN  ...   761.0  660.0  572.00  521.00   487.00   456.00   420.00   \n14     NaN  ...   918.0  761.0  660.00  572.00   521.00   487.00   456.00   \n15     NaN  ...  1000.0  918.0  761.00  660.00   572.00   521.00   487.00   \n16     NaN  ...     NaN  892.5  819.32  679.19   589.05   510.51   464.99   \n17     NaN  ...     NaN    NaN  937.13  860.28   713.15   618.50   536.04   \n18     NaN  ...     NaN    NaN     NaN  983.98   903.29   748.81   649.43   \n19     NaN  ...     NaN    NaN     NaN     NaN  1033.18   948.46   786.25   \n20     NaN  ...     NaN    NaN     NaN     NaN      NaN  1084.84   995.88   \n21     NaN  ...     NaN    NaN     NaN     NaN      NaN      NaN  1139.08   \n22     NaN  ...     NaN    NaN     NaN     NaN      NaN      NaN      NaN   \n23     NaN  ...     NaN    NaN     NaN     NaN      NaN      NaN      NaN   \n24     NaN  ...     NaN    NaN     NaN     NaN      NaN      NaN      NaN   \n\n         22       23       24  \n1    228.00   216.00   204.00  \n2    240.00   228.00   216.00  \n3    252.00   240.00   228.00  \n4    264.00   252.00   240.00  \n5    276.00   264.00   252.00  \n6    288.00   276.00   264.00  \n7    300.00   288.00   276.00  \n8    312.00   300.00   288.00  \n9    324.00   312.00   300.00  \n10   334.00   324.00   312.00  \n11   348.00   334.00   324.00  \n12   372.00   348.00   334.00  \n13   396.00   372.00   348.00  \n14   420.00   396.00   372.00  \n15   456.00   420.00   396.00  \n16   434.65   406.98   374.85  \n17   488.24   456.38   427.33  \n18   562.84   512.65   479.20  \n19   681.90   590.98   538.29  \n20   825.56   715.99   620.53  \n21  1045.68   866.84   751.79  \n22  1196.04  1097.96   910.18  \n23      NaN  1255.84  1152.86  \n24      NaN      NaN  1318.63  \n\n[24 rows x 24 columns]",
      "text/html": "<div>\n<style scoped>\n    .dataframe tbody tr th:only-of-type {\n        vertical-align: middle;\n    }\n\n    .dataframe tbody tr th {\n        vertical-align: top;\n    }\n\n    .dataframe thead th {\n        text-align: right;\n    }\n</style>\n<table border=\"1\" class=\"dataframe\">\n  <thead>\n    <tr style=\"text-align: right;\">\n      <th></th>\n      <th>1</th>\n      <th>2</th>\n      <th>3</th>\n      <th>4</th>\n      <th>5</th>\n      <th>6</th>\n      <th>7</th>\n      <th>8</th>\n      <th>9</th>\n      <th>10</th>\n      <th>...</th>\n      <th>15</th>\n      <th>16</th>\n      <th>17</th>\n      <th>18</th>\n      <th>19</th>\n      <th>20</th>\n      <th>21</th>\n      <th>22</th>\n      <th>23</th>\n      <th>24</th>\n    </tr>\n  </thead>\n  <tbody>\n    <tr>\n      <th>1</th>\n      <td>1000.0</td>\n      <td>918.0</td>\n      <td>761.0</td>\n      <td>660.0</td>\n      <td>572.0</td>\n      <td>521.0</td>\n      <td>487.0</td>\n      <td>456.0</td>\n      <td>420.0</td>\n      <td>396.0</td>\n      <td>...</td>\n      <td>312.0</td>\n      <td>300.0</td>\n      <td>288.00</td>\n      <td>276.00</td>\n      <td>264.00</td>\n      <td>252.00</td>\n      <td>240.00</td>\n      <td>228.00</td>\n      <td>216.00</td>\n      <td>204.00</td>\n    </tr>\n    <tr>\n      <th>2</th>\n      <td>NaN</td>\n      <td>1000.0</td>\n      <td>918.0</td>\n      <td>761.0</td>\n      <td>660.0</td>\n      <td>572.0</td>\n      <td>521.0</td>\n      <td>487.0</td>\n      <td>456.0</td>\n      <td>420.0</td>\n      <td>...</td>\n      <td>324.0</td>\n      <td>312.0</td>\n      <td>300.00</td>\n      <td>288.00</td>\n      <td>276.00</td>\n      <td>264.00</td>\n      <td>252.00</td>\n      <td>240.00</td>\n      <td>228.00</td>\n      <td>216.00</td>\n    </tr>\n    <tr>\n      <th>3</th>\n      <td>NaN</td>\n      <td>NaN</td>\n      <td>1000.0</td>\n      <td>918.0</td>\n      <td>761.0</td>\n      <td>660.0</td>\n      <td>572.0</td>\n      <td>521.0</td>\n      <td>487.0</td>\n      <td>456.0</td>\n      <td>...</td>\n      <td>334.0</td>\n      <td>324.0</td>\n      <td>312.00</td>\n      <td>300.00</td>\n      <td>288.00</td>\n      <td>276.00</td>\n      <td>264.00</td>\n      <td>252.00</td>\n      <td>240.00</td>\n      <td>228.00</td>\n    </tr>\n    <tr>\n      <th>4</th>\n      <td>NaN</td>\n      <td>NaN</td>\n      <td>NaN</td>\n      <td>1000.0</td>\n      <td>918.0</td>\n      <td>761.0</td>\n      <td>660.0</td>\n      <td>572.0</td>\n      <td>521.0</td>\n      <td>487.0</td>\n      <td>...</td>\n      <td>348.0</td>\n      <td>334.0</td>\n      <td>324.00</td>\n      <td>312.00</td>\n      <td>300.00</td>\n      <td>288.00</td>\n      <td>276.00</td>\n      <td>264.00</td>\n      <td>252.00</td>\n      <td>240.00</td>\n    </tr>\n    <tr>\n      <th>5</th>\n      <td>NaN</td>\n      <td>NaN</td>\n      <td>NaN</td>\n      <td>NaN</td>\n      <td>1000.0</td>\n      <td>918.0</td>\n      <td>761.0</td>\n      <td>660.0</td>\n      <td>572.0</td>\n      <td>521.0</td>\n      <td>...</td>\n      <td>372.0</td>\n      <td>348.0</td>\n      <td>334.00</td>\n      <td>324.00</td>\n      <td>312.00</td>\n      <td>300.00</td>\n      <td>288.00</td>\n      <td>276.00</td>\n      <td>264.00</td>\n      <td>252.00</td>\n    </tr>\n    <tr>\n      <th>6</th>\n      <td>NaN</td>\n      <td>NaN</td>\n      <td>NaN</td>\n      <td>NaN</td>\n      <td>NaN</td>\n      <td>1000.0</td>\n      <td>918.0</td>\n      <td>761.0</td>\n      <td>660.0</td>\n      <td>572.0</td>\n      <td>...</td>\n      <td>396.0</td>\n      <td>372.0</td>\n      <td>348.00</td>\n      <td>334.00</td>\n      <td>324.00</td>\n      <td>312.00</td>\n      <td>300.00</td>\n      <td>288.00</td>\n      <td>276.00</td>\n      <td>264.00</td>\n    </tr>\n    <tr>\n      <th>7</th>\n      <td>NaN</td>\n      <td>NaN</td>\n      <td>NaN</td>\n      <td>NaN</td>\n      <td>NaN</td>\n      <td>NaN</td>\n      <td>1000.0</td>\n      <td>918.0</td>\n      <td>761.0</td>\n      <td>660.0</td>\n      <td>...</td>\n      <td>420.0</td>\n      <td>396.0</td>\n      <td>372.00</td>\n      <td>348.00</td>\n      <td>334.00</td>\n      <td>324.00</td>\n      <td>312.00</td>\n      <td>300.00</td>\n      <td>288.00</td>\n      <td>276.00</td>\n    </tr>\n    <tr>\n      <th>8</th>\n      <td>NaN</td>\n      <td>NaN</td>\n      <td>NaN</td>\n      <td>NaN</td>\n      <td>NaN</td>\n      <td>NaN</td>\n      <td>NaN</td>\n      <td>1000.0</td>\n      <td>918.0</td>\n      <td>761.0</td>\n      <td>...</td>\n      <td>456.0</td>\n      <td>420.0</td>\n      <td>396.00</td>\n      <td>372.00</td>\n      <td>348.00</td>\n      <td>334.00</td>\n      <td>324.00</td>\n      <td>312.00</td>\n      <td>300.00</td>\n      <td>288.00</td>\n    </tr>\n    <tr>\n      <th>9</th>\n      <td>NaN</td>\n      <td>NaN</td>\n      <td>NaN</td>\n      <td>NaN</td>\n      <td>NaN</td>\n      <td>NaN</td>\n      <td>NaN</td>\n      <td>NaN</td>\n      <td>1000.0</td>\n      <td>918.0</td>\n      <td>...</td>\n      <td>487.0</td>\n      <td>456.0</td>\n      <td>420.00</td>\n      <td>396.00</td>\n      <td>372.00</td>\n      <td>348.00</td>\n      <td>334.00</td>\n      <td>324.00</td>\n      <td>312.00</td>\n      <td>300.00</td>\n    </tr>\n    <tr>\n      <th>10</th>\n      <td>NaN</td>\n      <td>NaN</td>\n      <td>NaN</td>\n      <td>NaN</td>\n      <td>NaN</td>\n      <td>NaN</td>\n      <td>NaN</td>\n      <td>NaN</td>\n      <td>NaN</td>\n      <td>1000.0</td>\n      <td>...</td>\n      <td>521.0</td>\n      <td>487.0</td>\n      <td>456.00</td>\n      <td>420.00</td>\n      <td>396.00</td>\n      <td>372.00</td>\n      <td>348.00</td>\n      <td>334.00</td>\n      <td>324.00</td>\n      <td>312.00</td>\n    </tr>\n    <tr>\n      <th>11</th>\n      <td>NaN</td>\n      <td>NaN</td>\n      <td>NaN</td>\n      <td>NaN</td>\n      <td>NaN</td>\n      <td>NaN</td>\n      <td>NaN</td>\n      <td>NaN</td>\n      <td>NaN</td>\n      <td>NaN</td>\n      <td>...</td>\n      <td>572.0</td>\n      <td>521.0</td>\n      <td>487.00</td>\n      <td>456.00</td>\n      <td>420.00</td>\n      <td>396.00</td>\n      <td>372.00</td>\n      <td>348.00</td>\n      <td>334.00</td>\n      <td>324.00</td>\n    </tr>\n    <tr>\n      <th>12</th>\n      <td>NaN</td>\n      <td>NaN</td>\n      <td>NaN</td>\n      <td>NaN</td>\n      <td>NaN</td>\n      <td>NaN</td>\n      <td>NaN</td>\n      <td>NaN</td>\n      <td>NaN</td>\n      <td>NaN</td>\n      <td>...</td>\n      <td>660.0</td>\n      <td>572.0</td>\n      <td>521.00</td>\n      <td>487.00</td>\n      <td>456.00</td>\n      <td>420.00</td>\n      <td>396.00</td>\n      <td>372.00</td>\n      <td>348.00</td>\n      <td>334.00</td>\n    </tr>\n    <tr>\n      <th>13</th>\n      <td>NaN</td>\n      <td>NaN</td>\n      <td>NaN</td>\n      <td>NaN</td>\n      <td>NaN</td>\n      <td>NaN</td>\n      <td>NaN</td>\n      <td>NaN</td>\n      <td>NaN</td>\n      <td>NaN</td>\n      <td>...</td>\n      <td>761.0</td>\n      <td>660.0</td>\n      <td>572.00</td>\n      <td>521.00</td>\n      <td>487.00</td>\n      <td>456.00</td>\n      <td>420.00</td>\n      <td>396.00</td>\n      <td>372.00</td>\n      <td>348.00</td>\n    </tr>\n    <tr>\n      <th>14</th>\n      <td>NaN</td>\n      <td>NaN</td>\n      <td>NaN</td>\n      <td>NaN</td>\n      <td>NaN</td>\n      <td>NaN</td>\n      <td>NaN</td>\n      <td>NaN</td>\n      <td>NaN</td>\n      <td>NaN</td>\n      <td>...</td>\n      <td>918.0</td>\n      <td>761.0</td>\n      <td>660.00</td>\n      <td>572.00</td>\n      <td>521.00</td>\n      <td>487.00</td>\n      <td>456.00</td>\n      <td>420.00</td>\n      <td>396.00</td>\n      <td>372.00</td>\n    </tr>\n    <tr>\n      <th>15</th>\n      <td>NaN</td>\n      <td>NaN</td>\n      <td>NaN</td>\n      <td>NaN</td>\n      <td>NaN</td>\n      <td>NaN</td>\n      <td>NaN</td>\n      <td>NaN</td>\n      <td>NaN</td>\n      <td>NaN</td>\n      <td>...</td>\n      <td>1000.0</td>\n      <td>918.0</td>\n      <td>761.00</td>\n      <td>660.00</td>\n      <td>572.00</td>\n      <td>521.00</td>\n      <td>487.00</td>\n      <td>456.00</td>\n      <td>420.00</td>\n      <td>396.00</td>\n    </tr>\n    <tr>\n      <th>16</th>\n      <td>NaN</td>\n      <td>NaN</td>\n      <td>NaN</td>\n      <td>NaN</td>\n      <td>NaN</td>\n      <td>NaN</td>\n      <td>NaN</td>\n      <td>NaN</td>\n      <td>NaN</td>\n      <td>NaN</td>\n      <td>...</td>\n      <td>NaN</td>\n      <td>892.5</td>\n      <td>819.32</td>\n      <td>679.19</td>\n      <td>589.05</td>\n      <td>510.51</td>\n      <td>464.99</td>\n      <td>434.65</td>\n      <td>406.98</td>\n      <td>374.85</td>\n    </tr>\n    <tr>\n      <th>17</th>\n      <td>NaN</td>\n      <td>NaN</td>\n      <td>NaN</td>\n      <td>NaN</td>\n      <td>NaN</td>\n      <td>NaN</td>\n      <td>NaN</td>\n      <td>NaN</td>\n      <td>NaN</td>\n      <td>NaN</td>\n      <td>...</td>\n      <td>NaN</td>\n      <td>NaN</td>\n      <td>937.13</td>\n      <td>860.28</td>\n      <td>713.15</td>\n      <td>618.50</td>\n      <td>536.04</td>\n      <td>488.24</td>\n      <td>456.38</td>\n      <td>427.33</td>\n    </tr>\n    <tr>\n      <th>18</th>\n      <td>NaN</td>\n      <td>NaN</td>\n      <td>NaN</td>\n      <td>NaN</td>\n      <td>NaN</td>\n      <td>NaN</td>\n      <td>NaN</td>\n      <td>NaN</td>\n      <td>NaN</td>\n      <td>NaN</td>\n      <td>...</td>\n      <td>NaN</td>\n      <td>NaN</td>\n      <td>NaN</td>\n      <td>983.98</td>\n      <td>903.29</td>\n      <td>748.81</td>\n      <td>649.43</td>\n      <td>562.84</td>\n      <td>512.65</td>\n      <td>479.20</td>\n    </tr>\n    <tr>\n      <th>19</th>\n      <td>NaN</td>\n      <td>NaN</td>\n      <td>NaN</td>\n      <td>NaN</td>\n      <td>NaN</td>\n      <td>NaN</td>\n      <td>NaN</td>\n      <td>NaN</td>\n      <td>NaN</td>\n      <td>NaN</td>\n      <td>...</td>\n      <td>NaN</td>\n      <td>NaN</td>\n      <td>NaN</td>\n      <td>NaN</td>\n      <td>1033.18</td>\n      <td>948.46</td>\n      <td>786.25</td>\n      <td>681.90</td>\n      <td>590.98</td>\n      <td>538.29</td>\n    </tr>\n    <tr>\n      <th>20</th>\n      <td>NaN</td>\n      <td>NaN</td>\n      <td>NaN</td>\n      <td>NaN</td>\n      <td>NaN</td>\n      <td>NaN</td>\n      <td>NaN</td>\n      <td>NaN</td>\n      <td>NaN</td>\n      <td>NaN</td>\n      <td>...</td>\n      <td>NaN</td>\n      <td>NaN</td>\n      <td>NaN</td>\n      <td>NaN</td>\n      <td>NaN</td>\n      <td>1084.84</td>\n      <td>995.88</td>\n      <td>825.56</td>\n      <td>715.99</td>\n      <td>620.53</td>\n    </tr>\n    <tr>\n      <th>21</th>\n      <td>NaN</td>\n      <td>NaN</td>\n      <td>NaN</td>\n      <td>NaN</td>\n      <td>NaN</td>\n      <td>NaN</td>\n      <td>NaN</td>\n      <td>NaN</td>\n      <td>NaN</td>\n      <td>NaN</td>\n      <td>...</td>\n      <td>NaN</td>\n      <td>NaN</td>\n      <td>NaN</td>\n      <td>NaN</td>\n      <td>NaN</td>\n      <td>NaN</td>\n      <td>1139.08</td>\n      <td>1045.68</td>\n      <td>866.84</td>\n      <td>751.79</td>\n    </tr>\n    <tr>\n      <th>22</th>\n      <td>NaN</td>\n      <td>NaN</td>\n      <td>NaN</td>\n      <td>NaN</td>\n      <td>NaN</td>\n      <td>NaN</td>\n      <td>NaN</td>\n      <td>NaN</td>\n      <td>NaN</td>\n      <td>NaN</td>\n      <td>...</td>\n      <td>NaN</td>\n      <td>NaN</td>\n      <td>NaN</td>\n      <td>NaN</td>\n      <td>NaN</td>\n      <td>NaN</td>\n      <td>NaN</td>\n      <td>1196.04</td>\n      <td>1097.96</td>\n      <td>910.18</td>\n    </tr>\n    <tr>\n      <th>23</th>\n      <td>NaN</td>\n      <td>NaN</td>\n      <td>NaN</td>\n      <td>NaN</td>\n      <td>NaN</td>\n      <td>NaN</td>\n      <td>NaN</td>\n      <td>NaN</td>\n      <td>NaN</td>\n      <td>NaN</td>\n      <td>...</td>\n      <td>NaN</td>\n      <td>NaN</td>\n      <td>NaN</td>\n      <td>NaN</td>\n      <td>NaN</td>\n      <td>NaN</td>\n      <td>NaN</td>\n      <td>NaN</td>\n      <td>1255.84</td>\n      <td>1152.86</td>\n    </tr>\n    <tr>\n      <th>24</th>\n      <td>NaN</td>\n      <td>NaN</td>\n      <td>NaN</td>\n      <td>NaN</td>\n      <td>NaN</td>\n      <td>NaN</td>\n      <td>NaN</td>\n      <td>NaN</td>\n      <td>NaN</td>\n      <td>NaN</td>\n      <td>...</td>\n      <td>NaN</td>\n      <td>NaN</td>\n      <td>NaN</td>\n      <td>NaN</td>\n      <td>NaN</td>\n      <td>NaN</td>\n      <td>NaN</td>\n      <td>NaN</td>\n      <td>NaN</td>\n      <td>1318.63</td>\n    </tr>\n  </tbody>\n</table>\n<p>24 rows × 24 columns</p>\n</div>"
     },
     "execution_count": 385,
     "metadata": {},
     "output_type": "execute_result"
    }
   ],
   "source": [
    "pd.DataFrame(list_of_data, index=list(all_cohorts_revenue.keys()))"
   ],
   "metadata": {
    "collapsed": false,
    "pycharm": {
     "name": "#%%\n"
    }
   }
  }
 ],
 "metadata": {
  "kernelspec": {
   "display_name": "Python 3",
   "language": "python",
   "name": "python3"
  },
  "language_info": {
   "codemirror_mode": {
    "name": "ipython",
    "version": 2
   },
   "file_extension": ".py",
   "mimetype": "text/x-python",
   "name": "python",
   "nbconvert_exporter": "python",
   "pygments_lexer": "ipython2",
   "version": "2.7.6"
  }
 },
 "nbformat": 4,
 "nbformat_minor": 0
}